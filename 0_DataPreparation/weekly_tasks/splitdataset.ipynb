{
 "cells": [
  {
   "cell_type": "markdown",
   "id": "1104239a",
   "metadata": {},
   "source": [
    "# Procedure for splitting the Data in Train and Validation sets\n",
    "\n",
    "**Merge all Data**"
   ]
  },
  {
   "cell_type": "code",
   "execution_count": 2,
   "id": "5258f781",
   "metadata": {},
   "outputs": [
    {
     "name": "stdout",
     "output_type": "stream",
     "text": [
      "<class 'pandas.core.frame.DataFrame'>\n",
      "RangeIndex: 10119 entries, 0 to 10118\n",
      "Data columns (total 9 columns):\n",
      " #   Column               Non-Null Count  Dtype         \n",
      "---  ------               --------------  -----         \n",
      " 0   id                   9334 non-null   float64       \n",
      " 1   Datum                10119 non-null  datetime64[ns]\n",
      " 2   Warengruppe          9334 non-null   float64       \n",
      " 3   Umsatz               9334 non-null   float64       \n",
      " 4   Bewoelkung           10048 non-null  float64       \n",
      " 5   Temperatur           10103 non-null  float64       \n",
      " 6   Windgeschwindigkeit  10103 non-null  float64       \n",
      " 7   Wettercode           7581 non-null   float64       \n",
      " 8   KielerWoche          250 non-null    float64       \n",
      "dtypes: datetime64[ns](1), float64(8)\n",
      "memory usage: 711.6 KB\n",
      "Index(['id', 'Datum', 'Warengruppe', 'Umsatz', 'Bewoelkung', 'Temperatur',\n",
      "       'Windgeschwindigkeit', 'Wettercode', 'KielerWoche'],\n",
      "      dtype='object')\n"
     ]
    }
   ],
   "source": [
    "import pandas as pd\n",
    "\n",
    "# URLs\n",
    "base = \"https://raw.githubusercontent.com/opencampus-sh/einfuehrung-in-data-science-und-ml/main/\"\n",
    "df_umsatz = pd.read_csv(base + \"umsatzdaten_gekuerzt.csv\")\n",
    "df_wetter = pd.read_csv(base + \"wetter.csv\")\n",
    "df_kiwo = pd.read_csv(base + \"kiwo.csv\")\n",
    "\n",
    "# Datum vereinheitlichen\n",
    "for df in [df_umsatz, df_wetter, df_kiwo]:\n",
    "    df[\"Datum\"] = pd.to_datetime(df[\"Datum\"])\n",
    "\n",
    "# Merge\n",
    "df_all = df_umsatz.merge(df_wetter, on=\"Datum\", how=\"outer\") \\\n",
    "                  .merge(df_kiwo, on=\"Datum\", how=\"outer\")\n",
    "\n",
    "df_all.info()\n",
    "print(df_all.columns)"
   ]
  },
  {
   "cell_type": "markdown",
   "id": "f47c8512",
   "metadata": {},
   "source": [
    "# Split the Data set by dates\n",
    "\n",
    "training set 01.07.2013 - 31.07.2017  \n",
    "val set 01.08.2017 - 31.07.2018  \n",
    "test set 01.08.2018 -31.07.2019  "
   ]
  },
  {
   "cell_type": "markdown",
   "id": "dfcd678f",
   "metadata": {},
   "source": []
  },
  {
   "cell_type": "code",
   "execution_count": 8,
   "id": "a706c7c2",
   "metadata": {},
   "outputs": [
    {
     "name": "stdout",
     "output_type": "stream",
     "text": [
      "      id      Datum  Warengruppe  Umsatz  Bewoelkung  Temperatur  \\\n",
      "9766 NaN 2018-08-01          NaN     NaN         0.0     23.7625   \n",
      "9767 NaN 2018-08-02          NaN     NaN         0.0     26.1875   \n",
      "9768 NaN 2018-08-03          NaN     NaN         1.0     27.6625   \n",
      "9769 NaN 2018-08-04          NaN     NaN         4.0     25.1375   \n",
      "9770 NaN 2018-08-05          NaN     NaN         7.0     21.3000   \n",
      "\n",
      "      Windgeschwindigkeit  Wettercode  KielerWoche  \n",
      "9766                 10.0         0.0          NaN  \n",
      "9767                 10.0         0.0          NaN  \n",
      "9768                 10.0         0.0          NaN  \n",
      "9769                 12.0         NaN          NaN  \n",
      "9770                 14.0        61.0          NaN  \n",
      "Train shape: (7917, 9)\n",
      "Validation shape: (1849, 9)\n",
      "Test shape: (353, 9)\n"
     ]
    }
   ],
   "source": [
    "df_all = df_all.sort_values(by=\"Datum\")\n",
    "\n",
    "# look at the first rows\n",
    "#print(df_all.head())\n",
    "\n",
    "# define data thresshold\n",
    "train_end_date = \"31.07.2017\"\n",
    "validation_end_date = \"31.07.2018\"\n",
    "\n",
    "\n",
    "# convert threshold dates to datetime\n",
    "df_all[\"Datum\"] = pd.to_datetime(df_all[\"Datum\"], format=\"%Y-%m-%d\")\n",
    "train_end = pd.to_datetime(train_end_date, format=\"%d.%m.%Y\")\n",
    "validation_end = pd.to_datetime(validation_end_date, format=\"%d.%m.%Y\")\n",
    "\n",
    "# split data\n",
    "train = df_all[df_all[\"Datum\"] <= train_end]\n",
    "validation = df_all[(df_all[\"Datum\"] > train_end) & (df_all[\"Datum\"] <= validation_end)]\n",
    "test = df_all[df_all[\"Datum\"] > validation_end]\n",
    "\n",
    "print(test.head())\n",
    "\n",
    "# check dimensions\n",
    "print(f\"Train shape: {train.shape}\")\n",
    "print(f\"Validation shape: {validation.shape}\")\n",
    "print(f\"Test shape: {test.shape}\")\n",
    "\n"
   ]
  },
  {
   "cell_type": "markdown",
   "id": "73c7adf4",
   "metadata": {},
   "source": [
    "## Define a simple linear model equation and conduct a linear regression using the training data\n"
   ]
  },
  {
   "cell_type": "code",
   "execution_count": 4,
   "id": "5d0537bd",
   "metadata": {},
   "outputs": [
    {
     "name": "stdout",
     "output_type": "stream",
     "text": [
      "                            OLS Regression Results                            \n",
      "==============================================================================\n",
      "Dep. Variable:                 Umsatz   R-squared:                       0.004\n",
      "Model:                            OLS   Adj. R-squared:                  0.003\n",
      "Method:                 Least Squares   F-statistic:                     27.08\n",
      "Date:                Thu, 22 May 2025   Prob (F-statistic):           2.01e-07\n",
      "Time:                        15:42:28   Log-Likelihood:                -48051.\n",
      "No. Observations:                7493   AIC:                         9.611e+04\n",
      "Df Residuals:                    7491   BIC:                         9.612e+04\n",
      "Df Model:                           1                                         \n",
      "Covariance Type:            nonrobust                                         \n",
      "===============================================================================\n",
      "                  coef    std err          t      P>|t|      [0.025      0.975]\n",
      "-------------------------------------------------------------------------------\n",
      "Intercept     227.7143      3.921     58.076      0.000     220.028     235.400\n",
      "Warengruppe    -5.9517      1.144     -5.204      0.000      -8.194      -3.710\n",
      "==============================================================================\n",
      "Omnibus:                     3163.432   Durbin-Watson:                   2.315\n",
      "Prob(Omnibus):                  0.000   Jarque-Bera (JB):            25690.464\n",
      "Skew:                           1.822   Prob(JB):                         0.00\n",
      "Kurtosis:                      11.307   Cond. No.                         8.44\n",
      "==============================================================================\n",
      "\n",
      "Notes:\n",
      "[1] Standard Errors assume that the covariance matrix of the errors is correctly specified.\n"
     ]
    }
   ],
   "source": [
    "import statsmodels.formula.api as smf\n",
    "\n",
    "mod = smf.ols(formula=\"Umsatz ~ Warengruppe\", data=train)\n",
    "mod = mod.fit()\n",
    "\n",
    "# check the summary\n",
    "print(mod.summary())"
   ]
  },
  {
   "cell_type": "code",
   "execution_count": null,
   "id": "a7138cf8",
   "metadata": {},
   "outputs": [
    {
     "name": "stdout",
     "output_type": "stream",
     "text": [
      "           id      Datum  Warengruppe  Umsatz  Bewoelkung  Temperatur  \\\n",
      "0  20180801,1 2018-08-01            1   120.0         0.0        24.0   \n",
      "1  20180801,2 2018-08-01            2    85.5         1.0        24.0   \n",
      "2  20180801,3 2018-08-01            3    99.9         2.0        24.0   \n",
      "3  20180801,4 2018-08-01            4   130.2         3.0        24.0   \n",
      "4  20180801,5 2018-08-01            5   110.0         2.0        24.0   \n",
      "5  20180801,6 2018-08-01            6    95.3         1.0        24.0   \n",
      "\n",
      "   Windgeschwindigkeit  Wettercode  KielerWoche  \n",
      "0                 10.0         0.0            0  \n",
      "1                 10.0         0.0            0  \n",
      "2                 10.0         0.0            0  \n",
      "3                 10.0         0.0            0  \n",
      "4                 10.0         0.0            0  \n",
      "5                 10.0         0.0            0  \n"
     ]
    }
   ],
   "source": [
    "import pandas as pd\n",
    "\n",
    "# Beispiel-Daten manuell definieren\n",
    "data2 = {\n",
    "    \"Datum\": pd.to_datetime([\"2018-08-01\"] * 6),\n",
    "    \"Warengruppe\": [1, 2, 3, 4, 5, 6],\n",
    "    \"Umsatz\": [120.0, 85.5, 99.9, 130.2, 110.0, 95.3],\n",
    "    \"Bewoelkung\": [0.0, 1.0, 2.0, 3.0, 2.0, 1.0],\n",
    "    \"Temperatur\": [24.0, 24.0, 24.0, 24.0, 24.0, 24.0],\n",
    "    \"Windgeschwindigkeit\": [10.0, 10.0, 10.0, 10.0, 10.0, 10.0],\n",
    "    \"Wettercode\": [0.0, 0.0, 0.0, 0.0, 0.0, 0.0],\n",
    "    \"KielerWoche\": [0, 0, 0, 0, 0, 0],\n",
    "}\n",
    "\n",
    "# DataFrame erstellen\n",
    "df_sample = pd.DataFrame(data2)\n",
    "\n",
    "# ID erzeugen im Format yyyymmdd,WARGRUPPE\n",
    "df_sample[\"id\"] = df_sample[\"Datum\"].dt.strftime(\"%Y%m%d\") + \",\" + df_sample[\"Warengruppe\"].astype(str)\n",
    "\n",
    "# Spaltenreihenfolge anpassen\n",
    "df_sample = df_sample[[\"id\", \"Datum\", \"Warengruppe\", \"Umsatz\", \"Bewoelkung\",\n",
    "                       \"Temperatur\", \"Windgeschwindigkeit\", \"Wettercode\", \"KielerWoche\"]]\n",
    "\n",
    "# Ausgabe\n",
    "print(df_sample)"
   ]
  },
  {
   "cell_type": "markdown",
   "id": "3b19cf79",
   "metadata": {},
   "source": [
    "## Use Model or prediction"
   ]
  },
  {
   "cell_type": "code",
   "execution_count": 10,
   "id": "e90d5b1a",
   "metadata": {},
   "outputs": [
    {
     "name": "stdout",
     "output_type": "stream",
     "text": [
      "0    221.762590\n",
      "1    215.810925\n",
      "2    209.859260\n",
      "3    203.907595\n",
      "4    197.955930\n",
      "5    192.004265\n",
      "dtype: float64\n"
     ]
    }
   ],
   "source": [
    "# Vorhersage für die Beispiel-Daten\n",
    "pred = mod.predict(df_sample)\n",
    "print(pred)"
   ]
  }
 ],
 "metadata": {
  "kernelspec": {
   "display_name": "Python 3",
   "language": "python",
   "name": "python3"
  },
  "language_info": {
   "codemirror_mode": {
    "name": "ipython",
    "version": 3
   },
   "file_extension": ".py",
   "mimetype": "text/x-python",
   "name": "python",
   "nbconvert_exporter": "python",
   "pygments_lexer": "ipython3",
   "version": "3.12.1"
  }
 },
 "nbformat": 4,
 "nbformat_minor": 5
}
