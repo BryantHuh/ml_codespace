{
 "cells": [
  {
   "cell_type": "markdown",
   "id": "8c53be00",
   "metadata": {},
   "source": [
    "### Daten Vorbereitung"
   ]
  },
  {
   "cell_type": "code",
   "execution_count": 2,
   "id": "bb8bce32",
   "metadata": {},
   "outputs": [],
   "source": [
    "import pandas as pd\n",
    "\n",
    "base_url = \"https://raw.githubusercontent.com/opencampus-sh/einfuehrung-in-data-science-und-ml/main/\"\n",
    "\n",
    "df_umsatz = pd.read_csv(base_url + \"umsatzdaten_gekuerzt.csv\")\n",
    "df_wetter = pd.read_csv(base_url + \"wetter.csv\")\n",
    "df_kiwo = pd.read_csv(base_url + \"kiwo.csv\")"
   ]
  },
  {
   "cell_type": "markdown",
   "id": "10bc5716",
   "metadata": {},
   "source": [
    "### Datum vereinheitlichen"
   ]
  },
  {
   "cell_type": "code",
   "execution_count": 3,
   "id": "2554fb3e",
   "metadata": {},
   "outputs": [],
   "source": [
    "# Datumsspalten in datetime umwandeln\n",
    "df_umsatz['Datum'] = pd.to_datetime(df_umsatz['Datum'])\n",
    "df_wetter['Datum'] = pd.to_datetime(df_wetter['Datum'])\n",
    "df_kiwo['Datum'] = pd.to_datetime(df_kiwo['Datum'])"
   ]
  },
  {
   "cell_type": "markdown",
   "id": "723ad92b",
   "metadata": {},
   "source": [
    "### Daten mergen"
   ]
  },
  {
   "cell_type": "code",
   "execution_count": 4,
   "id": "4dd246aa",
   "metadata": {},
   "outputs": [],
   "source": [
    "# Umsatzdaten mit Wetterdaten kombinieren\n",
    "df = df_umsatz.merge(df_wetter, on='Datum', how='left')\n",
    "\n",
    "# Kieler Woche ergänzen\n",
    "df = df.merge(df_kiwo, on='Datum', how='left')\n",
    "df['KielerWoche'] = df['KielerWoche'].fillna(0).astype(int)"
   ]
  },
  {
   "cell_type": "markdown",
   "id": "25a3a5a7",
   "metadata": {},
   "source": [
    "### Feature eng."
   ]
  },
  {
   "cell_type": "code",
   "execution_count": 5,
   "id": "82b2ad15",
   "metadata": {},
   "outputs": [],
   "source": [
    "# Neue Zeitfeatures\n",
    "df['Wochentag'] = df['Datum'].dt.dayofweek\n",
    "df['Monat'] = df['Datum'].dt.month\n",
    "df['IstWochenende'] = df['Wochentag'].isin([5, 6]).astype(int)"
   ]
  },
  {
   "cell_type": "code",
   "execution_count": 6,
   "id": "aed58d10",
   "metadata": {},
   "outputs": [
    {
     "name": "stdout",
     "output_type": "stream",
     "text": [
      "<class 'pandas.core.frame.DataFrame'>\n",
      "RangeIndex: 9334 entries, 0 to 9333\n",
      "Data columns (total 12 columns):\n",
      " #   Column               Non-Null Count  Dtype         \n",
      "---  ------               --------------  -----         \n",
      " 0   id                   9334 non-null   int64         \n",
      " 1   Datum                9334 non-null   datetime64[ns]\n",
      " 2   Warengruppe          9334 non-null   int64         \n",
      " 3   Umsatz               9334 non-null   float64       \n",
      " 4   Bewoelkung           9264 non-null   float64       \n",
      " 5   Temperatur           9318 non-null   float64       \n",
      " 6   Windgeschwindigkeit  9318 non-null   float64       \n",
      " 7   Wettercode           7009 non-null   float64       \n",
      " 8   KielerWoche          9334 non-null   int64         \n",
      " 9   Wochentag            9334 non-null   int32         \n",
      " 10  Monat                9334 non-null   int32         \n",
      " 11  IstWochenende        9334 non-null   int64         \n",
      "dtypes: datetime64[ns](1), float64(5), int32(2), int64(4)\n",
      "memory usage: 802.3 KB\n"
     ]
    },
    {
     "data": {
      "text/html": [
       "<div>\n",
       "<style scoped>\n",
       "    .dataframe tbody tr th:only-of-type {\n",
       "        vertical-align: middle;\n",
       "    }\n",
       "\n",
       "    .dataframe tbody tr th {\n",
       "        vertical-align: top;\n",
       "    }\n",
       "\n",
       "    .dataframe thead th {\n",
       "        text-align: right;\n",
       "    }\n",
       "</style>\n",
       "<table border=\"1\" class=\"dataframe\">\n",
       "  <thead>\n",
       "    <tr style=\"text-align: right;\">\n",
       "      <th></th>\n",
       "      <th>id</th>\n",
       "      <th>Datum</th>\n",
       "      <th>Warengruppe</th>\n",
       "      <th>Umsatz</th>\n",
       "      <th>Bewoelkung</th>\n",
       "      <th>Temperatur</th>\n",
       "      <th>Windgeschwindigkeit</th>\n",
       "      <th>Wettercode</th>\n",
       "      <th>KielerWoche</th>\n",
       "      <th>Wochentag</th>\n",
       "      <th>Monat</th>\n",
       "      <th>IstWochenende</th>\n",
       "    </tr>\n",
       "  </thead>\n",
       "  <tbody>\n",
       "    <tr>\n",
       "      <th>0</th>\n",
       "      <td>1307011</td>\n",
       "      <td>2013-07-01</td>\n",
       "      <td>1</td>\n",
       "      <td>148.828353</td>\n",
       "      <td>6.0</td>\n",
       "      <td>17.8375</td>\n",
       "      <td>15.0</td>\n",
       "      <td>20.0</td>\n",
       "      <td>0</td>\n",
       "      <td>0</td>\n",
       "      <td>7</td>\n",
       "      <td>0</td>\n",
       "    </tr>\n",
       "    <tr>\n",
       "      <th>1</th>\n",
       "      <td>1307021</td>\n",
       "      <td>2013-07-02</td>\n",
       "      <td>1</td>\n",
       "      <td>159.793757</td>\n",
       "      <td>3.0</td>\n",
       "      <td>17.3125</td>\n",
       "      <td>10.0</td>\n",
       "      <td>NaN</td>\n",
       "      <td>0</td>\n",
       "      <td>1</td>\n",
       "      <td>7</td>\n",
       "      <td>0</td>\n",
       "    </tr>\n",
       "    <tr>\n",
       "      <th>2</th>\n",
       "      <td>1307031</td>\n",
       "      <td>2013-07-03</td>\n",
       "      <td>1</td>\n",
       "      <td>111.885594</td>\n",
       "      <td>7.0</td>\n",
       "      <td>21.0750</td>\n",
       "      <td>6.0</td>\n",
       "      <td>61.0</td>\n",
       "      <td>0</td>\n",
       "      <td>2</td>\n",
       "      <td>7</td>\n",
       "      <td>0</td>\n",
       "    </tr>\n",
       "    <tr>\n",
       "      <th>3</th>\n",
       "      <td>1307041</td>\n",
       "      <td>2013-07-04</td>\n",
       "      <td>1</td>\n",
       "      <td>168.864941</td>\n",
       "      <td>7.0</td>\n",
       "      <td>18.8500</td>\n",
       "      <td>7.0</td>\n",
       "      <td>20.0</td>\n",
       "      <td>0</td>\n",
       "      <td>3</td>\n",
       "      <td>7</td>\n",
       "      <td>0</td>\n",
       "    </tr>\n",
       "    <tr>\n",
       "      <th>4</th>\n",
       "      <td>1307051</td>\n",
       "      <td>2013-07-05</td>\n",
       "      <td>1</td>\n",
       "      <td>171.280754</td>\n",
       "      <td>5.0</td>\n",
       "      <td>19.9750</td>\n",
       "      <td>12.0</td>\n",
       "      <td>NaN</td>\n",
       "      <td>0</td>\n",
       "      <td>4</td>\n",
       "      <td>7</td>\n",
       "      <td>0</td>\n",
       "    </tr>\n",
       "  </tbody>\n",
       "</table>\n",
       "</div>"
      ],
      "text/plain": [
       "        id      Datum  Warengruppe      Umsatz  Bewoelkung  Temperatur  \\\n",
       "0  1307011 2013-07-01            1  148.828353         6.0     17.8375   \n",
       "1  1307021 2013-07-02            1  159.793757         3.0     17.3125   \n",
       "2  1307031 2013-07-03            1  111.885594         7.0     21.0750   \n",
       "3  1307041 2013-07-04            1  168.864941         7.0     18.8500   \n",
       "4  1307051 2013-07-05            1  171.280754         5.0     19.9750   \n",
       "\n",
       "   Windgeschwindigkeit  Wettercode  KielerWoche  Wochentag  Monat  \\\n",
       "0                 15.0        20.0            0          0      7   \n",
       "1                 10.0         NaN            0          1      7   \n",
       "2                  6.0        61.0            0          2      7   \n",
       "3                  7.0        20.0            0          3      7   \n",
       "4                 12.0         NaN            0          4      7   \n",
       "\n",
       "   IstWochenende  \n",
       "0              0  \n",
       "1              0  \n",
       "2              0  \n",
       "3              0  \n",
       "4              0  "
      ]
     },
     "execution_count": 6,
     "metadata": {},
     "output_type": "execute_result"
    }
   ],
   "source": [
    "# Überblick über den kombinierten Datensatz\n",
    "df.info()\n",
    "df.head()"
   ]
  }
 ],
 "metadata": {
  "kernelspec": {
   "display_name": ".venv",
   "language": "python",
   "name": "python3"
  },
  "language_info": {
   "codemirror_mode": {
    "name": "ipython",
    "version": 3
   },
   "file_extension": ".py",
   "mimetype": "text/x-python",
   "name": "python",
   "nbconvert_exporter": "python",
   "pygments_lexer": "ipython3",
   "version": "3.12.10"
  }
 },
 "nbformat": 4,
 "nbformat_minor": 5
}
