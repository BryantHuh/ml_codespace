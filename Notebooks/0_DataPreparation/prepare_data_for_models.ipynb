{
 "cells": [
  {
   "cell_type": "markdown",
   "id": "ff66afd2",
   "metadata": {},
   "source": [
    "# Datenvorbereitung für ML-Modelle\n",
    "\n",
    "Dieses Notebook erstellt den vollständigen Datensatz mit Wetter-, Kalender- und Ereignisfeatures, auf Basis von Umsatzdaten.  \n",
    "Die Ausgabe ist eine `df_prepared.csv`, die für verschiedene Modelle (z. B. RF, NN) genutzt werden kann."
   ]
  },
  {
   "cell_type": "code",
   "execution_count": null,
   "id": "16635ac6",
   "metadata": {},
   "outputs": [],
   "source": [
    "import pandas as pd\n",
    "import numpy as np\n",
    "from itertools import product\n",
    "from workalendar.europe import Germany\n",
    "\n",
    "# CSVs laden\n",
    "base_url = \"https://raw.githubusercontent.com/opencampus-sh/einfuehrung-in-data-science-und-ml/main/\"\n",
    "df_umsatz = pd.read_csv(base_url + \"umsatzdaten_gekuerzt.csv\")\n",
    "df_wetter = pd.read_csv(base_url + \"wetter.csv\")\n",
    "df_kiwo = pd.read_csv(base_url + \"kiwo.csv\")\n",
    "df_ferien = pd.read_csv(\"../../data/ferien_sh.csv\", parse_dates=[\"Startdatum\", \"Enddatum\"])"
   ]
  },
  {
   "cell_type": "code",
   "execution_count": null,
   "id": "7c1ce145",
   "metadata": {},
   "outputs": [],
   "source": [
    "# Alle Datum-Warengruppe-Kombis\n",
    "alle_daten = pd.date_range(start=\"2013-07-01\", end=\"2019-07-31\", freq=\"D\")\n",
    "warengruppen = [1, 2, 3, 4, 5, 6]\n",
    "voll_kombis = pd.DataFrame(list(product(alle_daten, warengruppen)), columns=[\"Datum\", \"Warengruppe\"])\n",
    "\n",
    "# Wetterdaten mergen\n",
    "df_wetter[\"Datum\"] = pd.to_datetime(df_wetter[\"Datum\"])\n",
    "df = voll_kombis.merge(df_wetter, on=\"Datum\", how=\"left\")\n",
    "\n",
    "# KiWo\n",
    "df_kiwo[\"Datum\"] = pd.to_datetime(df_kiwo[\"Datum\"])\n",
    "df_kiwo[\"KielerWoche\"] = 1\n",
    "df = df.merge(df_kiwo[[\"Datum\", \"KielerWoche\"]], on=\"Datum\", how=\"left\").fillna({\"KielerWoche\": 0})\n",
    "\n",
    "# Umsatzdaten\n",
    "df_umsatz[\"Datum\"] = pd.to_datetime(df_umsatz[\"Datum\"])\n",
    "df = df.merge(df_umsatz, on=[\"Datum\", \"Warengruppe\"], how=\"left\")\n",
    "df[\"Umsatz\"] = df[\"Umsatz\"].fillna(0)"
   ]
  },
  {
   "cell_type": "code",
   "execution_count": null,
   "id": "d5d0f35f",
   "metadata": {},
   "outputs": [],
   "source": [
    "# ID\n",
    "df[\"id\"] = df.apply(lambda row: int(row[\"Datum\"].strftime(\"%y%m%d\") + str(row[\"Warengruppe\"])), axis=1)\n",
    "\n",
    "# Kalenderfeatures\n",
    "df[\"Wochentag\"] = df[\"Datum\"].dt.dayofweek\n",
    "df[\"Monat\"] = df[\"Datum\"].dt.month\n",
    "df[\"IstWochenende\"] = df[\"Wochentag\"].isin([5, 6]).astype(int)\n",
    "\n",
    "# Feiertage (SH)\n",
    "cal = Germany(subdivision=\"SH\")\n",
    "feiertage = set()\n",
    "for jahr in df[\"Datum\"].dt.year.unique():\n",
    "    feiertage.update([d for d, _ in cal.holidays(jahr)])\n",
    "df[\"Feiertag\"] = df[\"Datum\"].isin(feiertage).astype(int)\n",
    "\n",
    "# Ferienzeit\n",
    "ferien_tage = set()\n",
    "for _, row in df_ferien.iterrows():\n",
    "    ferien_tage.update(pd.date_range(row[\"Startdatum\"], row[\"Enddatum\"]))\n",
    "df[\"Ferienzeit\"] = df[\"Datum\"].isin(ferien_tage).astype(int)"
   ]
  },
  {
   "cell_type": "code",
   "execution_count": null,
   "id": "ead6a9ad",
   "metadata": {},
   "outputs": [],
   "source": [
    "# Auffüllen\n",
    "df[\"Temperatur\"] = df[\"Temperatur\"].fillna(df[\"Temperatur\"].median())\n",
    "df[\"Bewoelkung\"] = df[\"Bewoelkung\"].fillna(df[\"Bewoelkung\"].median())\n",
    "df[\"Windgeschwindigkeit\"] = df[\"Windgeschwindigkeit\"].fillna(df[\"Windgeschwindigkeit\"].median())\n",
    "df[\"Wettercode\"] = df[\"Wettercode\"].fillna(-1).astype(int)\n",
    "\n",
    "# Speichern\n",
    "df.to_csv(\"../../data/df_prepared.csv\", index=False)\n",
    "print(\"✅ Datei gespeichert als df_prepared.csv\")"
   ]
  }
 ],
 "metadata": {
  "kernelspec": {
   "display_name": ".venv",
   "language": "python",
   "name": "python3"
  },
  "language_info": {
   "name": "python",
   "version": "3.12.10"
  }
 },
 "nbformat": 4,
 "nbformat_minor": 5
}
