{
 "cells": [
  {
   "cell_type": "markdown",
   "id": "be9b6448",
   "metadata": {},
   "source": [
    "# Datenvorbereitung für ML-Modelle (Umsatzprojekt)\n",
    "\n",
    "Dieses Notebook erstellt alle relevanten Features für die spätere Modellierung.  \n",
    "Es erzeugt Trainings-, Validierungs- und Testdaten und speichert sie als `.pkl`,  \n",
    "um sie wie im Kursbeispiel wiederverwenden zu können."
   ]
  },
  {
   "cell_type": "code",
   "execution_count": 1,
   "id": "e85219fa",
   "metadata": {},
   "outputs": [],
   "source": [
    "import pandas as pd\n",
    "import numpy as np\n",
    "from itertools import product\n",
    "from workalendar.europe import Germany\n",
    "from sklearn.model_selection import train_test_split\n",
    "import os\n",
    "\n",
    "# Datenquellen\n",
    "base = \"https://raw.githubusercontent.com/opencampus-sh/einfuehrung-in-data-science-und-ml/main/\"\n",
    "df_umsatz = pd.read_csv(base + \"umsatzdaten_gekuerzt.csv\")\n",
    "df_wetter = pd.read_csv(base + \"wetter.csv\")\n",
    "df_kiwo = pd.read_csv(base + \"kiwo.csv\")\n",
    "df_ferien = pd.read_csv(\"../../data/ferien_sh.csv\", parse_dates=[\"Startdatum\", \"Enddatum\"])"
   ]
  },
  {
   "cell_type": "code",
   "execution_count": 2,
   "id": "3ea20038",
   "metadata": {},
   "outputs": [],
   "source": [
    "# Vollständiger Grid\n",
    "alle_daten = pd.date_range(\"2013-07-01\", \"2019-07-31\")\n",
    "warengruppen = [1, 2, 3, 4, 5, 6]\n",
    "voll_kombis = pd.DataFrame(list(product(alle_daten, warengruppen)), columns=[\"Datum\", \"Warengruppe\"])\n",
    "\n",
    "# Wetter\n",
    "df_wetter[\"Datum\"] = pd.to_datetime(df_wetter[\"Datum\"])\n",
    "df = voll_kombis.merge(df_wetter, on=\"Datum\", how=\"left\")\n",
    "\n",
    "# KiWo\n",
    "df_kiwo[\"Datum\"] = pd.to_datetime(df_kiwo[\"Datum\"])\n",
    "df_kiwo[\"KielerWoche\"] = 1\n",
    "df = df.merge(df_kiwo[[\"Datum\", \"KielerWoche\"]], on=\"Datum\", how=\"left\").fillna({\"KielerWoche\": 0})\n",
    "\n",
    "# Umsatz\n",
    "df_umsatz[\"Datum\"] = pd.to_datetime(df_umsatz[\"Datum\"])\n",
    "df = df.merge(df_umsatz, on=[\"Datum\", \"Warengruppe\"], how=\"left\")\n",
    "df[\"Umsatz\"] = df[\"Umsatz\"].fillna(0)"
   ]
  },
  {
   "cell_type": "code",
   "execution_count": 3,
   "id": "7ed10023",
   "metadata": {},
   "outputs": [
    {
     "name": "stderr",
     "output_type": "stream",
     "text": [
      "/var/folders/09/wpbg8c7x22x3d_2_ybk_s1g40000gn/T/ipykernel_60946/1497446009.py:10: FutureWarning: The behavior of 'isin' with dtype=datetime64[ns] and castable values (e.g. strings) is deprecated. In a future version, these will not be considered matching by isin. Explicitly cast to the appropriate dtype before calling isin instead.\n",
      "  df[\"Feiertag\"] = df[\"Datum\"].isin(feiertage).astype(int)\n"
     ]
    }
   ],
   "source": [
    "df[\"Wochentag\"] = df[\"Datum\"].dt.dayofweek\n",
    "df[\"Monat\"] = df[\"Datum\"].dt.month\n",
    "df[\"IstWochenende\"] = df[\"Wochentag\"].isin([5, 6]).astype(int)\n",
    "\n",
    "# Feiertage\n",
    "cal = Germany(subdivision=\"SH\")\n",
    "feiertage = set()\n",
    "for jahr in df[\"Datum\"].dt.year.unique():\n",
    "    feiertage.update([d for d, _ in cal.holidays(jahr)])\n",
    "df[\"Feiertag\"] = df[\"Datum\"].isin(feiertage).astype(int)\n",
    "\n",
    "# Ferien\n",
    "ferien_tage = set()\n",
    "for _, row in df_ferien.iterrows():\n",
    "    ferien_tage.update(pd.date_range(row[\"Startdatum\"], row[\"Enddatum\"]))\n",
    "df[\"Ferienzeit\"] = df[\"Datum\"].isin(ferien_tage).astype(int)"
   ]
  },
  {
   "cell_type": "code",
   "execution_count": 4,
   "id": "4dda8dbc",
   "metadata": {},
   "outputs": [],
   "source": [
    "df[\"Temperatur\"] = df[\"Temperatur\"].fillna(df[\"Temperatur\"].median())\n",
    "df[\"Bewoelkung\"] = df[\"Bewoelkung\"].fillna(df[\"Bewoelkung\"].median())\n",
    "df[\"Windgeschwindigkeit\"] = df[\"Windgeschwindigkeit\"].fillna(df[\"Windgeschwindigkeit\"].median())\n",
    "df[\"Wettercode\"] = df[\"Wettercode\"].fillna(-1).astype(int)\n",
    "\n",
    "# Features & Target\n",
    "features = [\"Warengruppe\", \"Temperatur\", \"Bewoelkung\", \"Windgeschwindigkeit\",\n",
    "            \"KielerWoche\", \"Wochentag\", \"Monat\", \"IstWochenende\", \"Feiertag\", \"Ferienzeit\"]\n",
    "target = \"Umsatz\""
   ]
  },
  {
   "cell_type": "code",
   "execution_count": 7,
   "id": "e60c40ea",
   "metadata": {},
   "outputs": [
    {
     "name": "stdout",
     "output_type": "stream",
     "text": [
      "✅ Pickles gespeichert unter data/pickle_data/\n",
      "✅ Alle Pickles gespeichert in pickle_data/\n"
     ]
    }
   ],
   "source": [
    "X = df[features]\n",
    "y = df[[target]]\n",
    "\n",
    "X_train, X_temp, y_train, y_temp = train_test_split(X, y, test_size=0.3, random_state=42)\n",
    "X_val, X_test, y_val, y_test = train_test_split(X_temp, y_temp, test_size=0.33, random_state=42)  # 0.33 ≈ 0.10\n",
    "\n",
    "# Pickle exportieren\n",
    "pickle_dir = \"../../data/pickle_data\"\n",
    "os.makedirs(pickle_dir, exist_ok=True)\n",
    "\n",
    "X_train.to_pickle(f\"{pickle_dir}/training_features.pkl\")\n",
    "y_train.to_pickle(f\"{pickle_dir}/training_labels.pkl\")\n",
    "X_val.to_pickle(f\"{pickle_dir}/validation_features.pkl\")\n",
    "y_val.to_pickle(f\"{pickle_dir}/validation_labels.pkl\")\n",
    "X_test.to_pickle(f\"{pickle_dir}/test_features.pkl\")\n",
    "y_test.to_pickle(f\"{pickle_dir}/test_labels.pkl\")\n",
    "\n",
    "print(\"✅ Pickles gespeichert unter data/pickle_data/\")\n",
    "\n",
    "print(\"✅ Alle Pickles gespeichert in pickle_data/\")"
   ]
  }
 ],
 "metadata": {
  "kernelspec": {
   "display_name": ".venv",
   "language": "python",
   "name": "python3"
  },
  "language_info": {
   "codemirror_mode": {
    "name": "ipython",
    "version": 3
   },
   "file_extension": ".py",
   "mimetype": "text/x-python",
   "name": "python",
   "nbconvert_exporter": "python",
   "pygments_lexer": "ipython3",
   "version": "3.12.10"
  }
 },
 "nbformat": 4,
 "nbformat_minor": 5
}
