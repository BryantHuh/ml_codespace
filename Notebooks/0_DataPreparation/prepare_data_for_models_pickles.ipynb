{
 "cells": [
  {
   "cell_type": "markdown",
   "id": "be9b6448",
   "metadata": {},
   "source": [
    "# Datenvorbereitung für ML-Modelle (Umsatzprojekt)\n",
    "\n",
    "Dieses Notebook erstellt alle relevanten Features für die spätere Modellierung.  \n",
    "Es erzeugt Trainings-, Validierungs- und Testdaten und speichert sie als `.pkl`,  \n",
    "um sie wie im Kursbeispiel wiederverwenden zu können."
   ]
  },
  {
   "cell_type": "code",
   "execution_count": 1,
   "id": "e85219fa",
   "metadata": {},
   "outputs": [],
   "source": [
    "import pandas as pd\n",
    "import numpy as np\n",
    "from itertools import product\n",
    "from workalendar.europe import Germany\n",
    "from sklearn.model_selection import train_test_split\n",
    "import os\n",
    "\n",
    "# Datenquellen\n",
    "base = \"https://raw.githubusercontent.com/opencampus-sh/einfuehrung-in-data-science-und-ml/main/\"\n",
    "df_umsatz = pd.read_csv(base + \"umsatzdaten_gekuerzt.csv\")\n",
    "df_wetter = pd.read_csv(base + \"wetter.csv\")\n",
    "df_kiwo = pd.read_csv(base + \"kiwo.csv\")\n",
    "df_ferien = pd.read_csv(\"../../data/ferien_sh.csv\", parse_dates=[\"Startdatum\", \"Enddatum\"])"
   ]
  },
  {
   "cell_type": "code",
   "execution_count": 2,
   "id": "3ea20038",
   "metadata": {},
   "outputs": [],
   "source": [
    "# Vollständiger Grid\n",
    "alle_daten = pd.date_range(\"2013-07-01\", \"2019-07-31\")\n",
    "warengruppen = [1, 2, 3, 4, 5, 6]\n",
    "voll_kombis = pd.DataFrame(list(product(alle_daten, warengruppen)), columns=[\"Datum\", \"Warengruppe\"])\n",
    "\n",
    "# Wetter\n",
    "df_wetter[\"Datum\"] = pd.to_datetime(df_wetter[\"Datum\"])\n",
    "df = voll_kombis.merge(df_wetter, on=\"Datum\", how=\"left\")\n",
    "\n",
    "# KiWo\n",
    "df_kiwo[\"Datum\"] = pd.to_datetime(df_kiwo[\"Datum\"])\n",
    "df_kiwo[\"KielerWoche\"] = 1\n",
    "df = df.merge(df_kiwo[[\"Datum\", \"KielerWoche\"]], on=\"Datum\", how=\"left\").fillna({\"KielerWoche\": 0})\n",
    "\n",
    "# Umsatz\n",
    "df_umsatz[\"Datum\"] = pd.to_datetime(df_umsatz[\"Datum\"])\n",
    "df = df.merge(df_umsatz, on=[\"Datum\", \"Warengruppe\"], how=\"left\")\n",
    "df[\"Umsatz\"] = df[\"Umsatz\"].fillna(0)"
   ]
  },
  {
   "cell_type": "code",
   "execution_count": 3,
   "id": "7ed10023",
   "metadata": {},
   "outputs": [
    {
     "name": "stderr",
     "output_type": "stream",
     "text": [
      "/var/folders/09/wpbg8c7x22x3d_2_ybk_s1g40000gn/T/ipykernel_60946/1497446009.py:10: FutureWarning: The behavior of 'isin' with dtype=datetime64[ns] and castable values (e.g. strings) is deprecated. In a future version, these will not be considered matching by isin. Explicitly cast to the appropriate dtype before calling isin instead.\n",
      "  df[\"Feiertag\"] = df[\"Datum\"].isin(feiertage).astype(int)\n"
     ]
    }
   ],
   "source": [
    "df[\"Wochentag\"] = df[\"Datum\"].dt.dayofweek\n",
    "df[\"Monat\"] = df[\"Datum\"].dt.month\n",
    "df[\"IstWochenende\"] = df[\"Wochentag\"].isin([5, 6]).astype(int)\n",
    "\n",
    "# Feiertage\n",
    "cal = Germany(subdivision=\"SH\")\n",
    "feiertage = set()\n",
    "for jahr in df[\"Datum\"].dt.year.unique():\n",
    "    feiertage.update([d for d, _ in cal.holidays(jahr)])\n",
    "df[\"Feiertag\"] = df[\"Datum\"].isin(feiertage).astype(int)\n",
    "\n",
    "# Ferien\n",
    "ferien_tage = set()\n",
    "for _, row in df_ferien.iterrows():\n",
    "    ferien_tage.update(pd.date_range(row[\"Startdatum\"], row[\"Enddatum\"]))\n",
    "df[\"Ferienzeit\"] = df[\"Datum\"].isin(ferien_tage).astype(int)"
   ]
  },
  {
   "cell_type": "code",
   "execution_count": 4,
   "id": "4dda8dbc",
   "metadata": {},
   "outputs": [],
   "source": [
    "df[\"Temperatur\"] = df[\"Temperatur\"].fillna(df[\"Temperatur\"].median())\n",
    "df[\"Bewoelkung\"] = df[\"Bewoelkung\"].fillna(df[\"Bewoelkung\"].median())\n",
    "df[\"Windgeschwindigkeit\"] = df[\"Windgeschwindigkeit\"].fillna(df[\"Windgeschwindigkeit\"].median())\n",
    "df[\"Wettercode\"] = df[\"Wettercode\"].fillna(-1).astype(int)\n",
    "\n",
    "# Features & Target\n",
    "features = [\"Warengruppe\", \"Temperatur\", \"Bewoelkung\", \"Windgeschwindigkeit\",\n",
    "            \"KielerWoche\", \"Wochentag\", \"Monat\", \"IstWochenende\", \"Feiertag\", \"Ferienzeit\"]\n",
    "target = \"Umsatz\""
   ]
  },
  {
   "cell_type": "code",
   "execution_count": null,
   "id": "e60c40ea",
   "metadata": {},
   "outputs": [
    {
     "ename": "OSError",
     "evalue": "Cannot save file into a non-existent directory: 'pickle_data'",
     "output_type": "error",
     "traceback": [
      "\u001b[31m---------------------------------------------------------------------------\u001b[39m",
      "\u001b[31mOSError\u001b[39m                                   Traceback (most recent call last)",
      "\u001b[36mCell\u001b[39m\u001b[36m \u001b[39m\u001b[32mIn[5]\u001b[39m\u001b[32m, line 11\u001b[39m\n\u001b[32m      8\u001b[39m pickle_dir = \u001b[33m\"\u001b[39m\u001b[33m../../data/pickle_data\u001b[39m\u001b[33m\"\u001b[39m\n\u001b[32m      9\u001b[39m os.makedirs(pickle_dir, exist_ok=\u001b[38;5;28;01mTrue\u001b[39;00m)\n\u001b[32m---> \u001b[39m\u001b[32m11\u001b[39m \u001b[43mX_train\u001b[49m\u001b[43m.\u001b[49m\u001b[43mto_pickle\u001b[49m\u001b[43m(\u001b[49m\u001b[33;43m\"\u001b[39;49m\u001b[33;43mpickle_data/training_features.pkl\u001b[39;49m\u001b[33;43m\"\u001b[39;49m\u001b[43m)\u001b[49m\n\u001b[32m     12\u001b[39m y_train.to_pickle(\u001b[33m\"\u001b[39m\u001b[33mpickle_data/training_labels.pkl\u001b[39m\u001b[33m\"\u001b[39m)\n\u001b[32m     13\u001b[39m X_val.to_pickle(\u001b[33m\"\u001b[39m\u001b[33mpickle_data/validation_features.pkl\u001b[39m\u001b[33m\"\u001b[39m)\n",
      "\u001b[36mFile \u001b[39m\u001b[32m~/Developer/MachineLearning/ml_codespace_team4_opencampus/.venv/lib/python3.12/site-packages/pandas/util/_decorators.py:333\u001b[39m, in \u001b[36mdeprecate_nonkeyword_arguments.<locals>.decorate.<locals>.wrapper\u001b[39m\u001b[34m(*args, **kwargs)\u001b[39m\n\u001b[32m    327\u001b[39m \u001b[38;5;28;01mif\u001b[39;00m \u001b[38;5;28mlen\u001b[39m(args) > num_allow_args:\n\u001b[32m    328\u001b[39m     warnings.warn(\n\u001b[32m    329\u001b[39m         msg.format(arguments=_format_argument_list(allow_args)),\n\u001b[32m    330\u001b[39m         \u001b[38;5;167;01mFutureWarning\u001b[39;00m,\n\u001b[32m    331\u001b[39m         stacklevel=find_stack_level(),\n\u001b[32m    332\u001b[39m     )\n\u001b[32m--> \u001b[39m\u001b[32m333\u001b[39m \u001b[38;5;28;01mreturn\u001b[39;00m \u001b[43mfunc\u001b[49m\u001b[43m(\u001b[49m\u001b[43m*\u001b[49m\u001b[43margs\u001b[49m\u001b[43m,\u001b[49m\u001b[43m \u001b[49m\u001b[43m*\u001b[49m\u001b[43m*\u001b[49m\u001b[43mkwargs\u001b[49m\u001b[43m)\u001b[49m\n",
      "\u001b[36mFile \u001b[39m\u001b[32m~/Developer/MachineLearning/ml_codespace_team4_opencampus/.venv/lib/python3.12/site-packages/pandas/core/generic.py:3184\u001b[39m, in \u001b[36mNDFrame.to_pickle\u001b[39m\u001b[34m(self, path, compression, protocol, storage_options)\u001b[39m\n\u001b[32m   3134\u001b[39m \u001b[38;5;250m\u001b[39m\u001b[33;03m\"\"\"\u001b[39;00m\n\u001b[32m   3135\u001b[39m \u001b[33;03mPickle (serialize) object to file.\u001b[39;00m\n\u001b[32m   3136\u001b[39m \n\u001b[32m   (...)\u001b[39m\u001b[32m   3180\u001b[39m \u001b[33;03m4    4    9\u001b[39;00m\n\u001b[32m   3181\u001b[39m \u001b[33;03m\"\"\"\u001b[39;00m  \u001b[38;5;66;03m# noqa: E501\u001b[39;00m\n\u001b[32m   3182\u001b[39m \u001b[38;5;28;01mfrom\u001b[39;00m\u001b[38;5;250m \u001b[39m\u001b[34;01mpandas\u001b[39;00m\u001b[34;01m.\u001b[39;00m\u001b[34;01mio\u001b[39;00m\u001b[34;01m.\u001b[39;00m\u001b[34;01mpickle\u001b[39;00m\u001b[38;5;250m \u001b[39m\u001b[38;5;28;01mimport\u001b[39;00m to_pickle\n\u001b[32m-> \u001b[39m\u001b[32m3184\u001b[39m \u001b[43mto_pickle\u001b[49m\u001b[43m(\u001b[49m\n\u001b[32m   3185\u001b[39m \u001b[43m    \u001b[49m\u001b[38;5;28;43mself\u001b[39;49m\u001b[43m,\u001b[49m\n\u001b[32m   3186\u001b[39m \u001b[43m    \u001b[49m\u001b[43mpath\u001b[49m\u001b[43m,\u001b[49m\n\u001b[32m   3187\u001b[39m \u001b[43m    \u001b[49m\u001b[43mcompression\u001b[49m\u001b[43m=\u001b[49m\u001b[43mcompression\u001b[49m\u001b[43m,\u001b[49m\n\u001b[32m   3188\u001b[39m \u001b[43m    \u001b[49m\u001b[43mprotocol\u001b[49m\u001b[43m=\u001b[49m\u001b[43mprotocol\u001b[49m\u001b[43m,\u001b[49m\n\u001b[32m   3189\u001b[39m \u001b[43m    \u001b[49m\u001b[43mstorage_options\u001b[49m\u001b[43m=\u001b[49m\u001b[43mstorage_options\u001b[49m\u001b[43m,\u001b[49m\n\u001b[32m   3190\u001b[39m \u001b[43m\u001b[49m\u001b[43m)\u001b[49m\n",
      "\u001b[36mFile \u001b[39m\u001b[32m~/Developer/MachineLearning/ml_codespace_team4_opencampus/.venv/lib/python3.12/site-packages/pandas/io/pickle.py:103\u001b[39m, in \u001b[36mto_pickle\u001b[39m\u001b[34m(obj, filepath_or_buffer, compression, protocol, storage_options)\u001b[39m\n\u001b[32m    100\u001b[39m \u001b[38;5;28;01mif\u001b[39;00m protocol < \u001b[32m0\u001b[39m:\n\u001b[32m    101\u001b[39m     protocol = pickle.HIGHEST_PROTOCOL\n\u001b[32m--> \u001b[39m\u001b[32m103\u001b[39m \u001b[38;5;28;01mwith\u001b[39;00m \u001b[43mget_handle\u001b[49m\u001b[43m(\u001b[49m\n\u001b[32m    104\u001b[39m \u001b[43m    \u001b[49m\u001b[43mfilepath_or_buffer\u001b[49m\u001b[43m,\u001b[49m\n\u001b[32m    105\u001b[39m \u001b[43m    \u001b[49m\u001b[33;43m\"\u001b[39;49m\u001b[33;43mwb\u001b[39;49m\u001b[33;43m\"\u001b[39;49m\u001b[43m,\u001b[49m\n\u001b[32m    106\u001b[39m \u001b[43m    \u001b[49m\u001b[43mcompression\u001b[49m\u001b[43m=\u001b[49m\u001b[43mcompression\u001b[49m\u001b[43m,\u001b[49m\n\u001b[32m    107\u001b[39m \u001b[43m    \u001b[49m\u001b[43mis_text\u001b[49m\u001b[43m=\u001b[49m\u001b[38;5;28;43;01mFalse\u001b[39;49;00m\u001b[43m,\u001b[49m\n\u001b[32m    108\u001b[39m \u001b[43m    \u001b[49m\u001b[43mstorage_options\u001b[49m\u001b[43m=\u001b[49m\u001b[43mstorage_options\u001b[49m\u001b[43m,\u001b[49m\n\u001b[32m    109\u001b[39m \u001b[43m\u001b[49m\u001b[43m)\u001b[49m \u001b[38;5;28;01mas\u001b[39;00m handles:\n\u001b[32m    110\u001b[39m     \u001b[38;5;66;03m# letting pickle write directly to the buffer is more memory-efficient\u001b[39;00m\n\u001b[32m    111\u001b[39m     pickle.dump(obj, handles.handle, protocol=protocol)\n",
      "\u001b[36mFile \u001b[39m\u001b[32m~/Developer/MachineLearning/ml_codespace_team4_opencampus/.venv/lib/python3.12/site-packages/pandas/io/common.py:749\u001b[39m, in \u001b[36mget_handle\u001b[39m\u001b[34m(path_or_buf, mode, encoding, compression, memory_map, is_text, errors, storage_options)\u001b[39m\n\u001b[32m    747\u001b[39m \u001b[38;5;66;03m# Only for write methods\u001b[39;00m\n\u001b[32m    748\u001b[39m \u001b[38;5;28;01mif\u001b[39;00m \u001b[33m\"\u001b[39m\u001b[33mr\u001b[39m\u001b[33m\"\u001b[39m \u001b[38;5;129;01mnot\u001b[39;00m \u001b[38;5;129;01min\u001b[39;00m mode \u001b[38;5;129;01mand\u001b[39;00m is_path:\n\u001b[32m--> \u001b[39m\u001b[32m749\u001b[39m     \u001b[43mcheck_parent_directory\u001b[49m\u001b[43m(\u001b[49m\u001b[38;5;28;43mstr\u001b[39;49m\u001b[43m(\u001b[49m\u001b[43mhandle\u001b[49m\u001b[43m)\u001b[49m\u001b[43m)\u001b[49m\n\u001b[32m    751\u001b[39m \u001b[38;5;28;01mif\u001b[39;00m compression:\n\u001b[32m    752\u001b[39m     \u001b[38;5;28;01mif\u001b[39;00m compression != \u001b[33m\"\u001b[39m\u001b[33mzstd\u001b[39m\u001b[33m\"\u001b[39m:\n\u001b[32m    753\u001b[39m         \u001b[38;5;66;03m# compression libraries do not like an explicit text-mode\u001b[39;00m\n",
      "\u001b[36mFile \u001b[39m\u001b[32m~/Developer/MachineLearning/ml_codespace_team4_opencampus/.venv/lib/python3.12/site-packages/pandas/io/common.py:616\u001b[39m, in \u001b[36mcheck_parent_directory\u001b[39m\u001b[34m(path)\u001b[39m\n\u001b[32m    614\u001b[39m parent = Path(path).parent\n\u001b[32m    615\u001b[39m \u001b[38;5;28;01mif\u001b[39;00m \u001b[38;5;129;01mnot\u001b[39;00m parent.is_dir():\n\u001b[32m--> \u001b[39m\u001b[32m616\u001b[39m     \u001b[38;5;28;01mraise\u001b[39;00m \u001b[38;5;167;01mOSError\u001b[39;00m(\u001b[33mrf\u001b[39m\u001b[33m\"\u001b[39m\u001b[33mCannot save file into a non-existent directory: \u001b[39m\u001b[33m'\u001b[39m\u001b[38;5;132;01m{\u001b[39;00mparent\u001b[38;5;132;01m}\u001b[39;00m\u001b[33m'\u001b[39m\u001b[33m\"\u001b[39m)\n",
      "\u001b[31mOSError\u001b[39m: Cannot save file into a non-existent directory: 'pickle_data'"
     ]
    }
   ],
   "source": [
    "X = df[features]\n",
    "y = df[[target]]\n",
    "\n",
    "X_train, X_temp, y_train, y_temp = train_test_split(X, y, test_size=0.3, random_state=42)\n",
    "X_val, X_test, y_val, y_test = train_test_split(X_temp, y_temp, test_size=0.33, random_state=42)  # 0.33 ≈ 0.10\n",
    "\n",
    "# Pickle exportieren\n",
    "pickle_dir = \"../data/pickle_data\"\n",
    "os.makedirs(pickle_dir, exist_ok=True)\n",
    "\n",
    "X_train.to_pickle(\"pickle_data/training_features.pkl\")\n",
    "y_train.to_pickle(\"pickle_data/training_labels.pkl\")\n",
    "X_val.to_pickle(\"pickle_data/validation_features.pkl\")\n",
    "y_val.to_pickle(\"pickle_data/validation_labels.pkl\")\n",
    "X_test.to_pickle(\"pickle_data/test_features.pkl\")\n",
    "y_test.to_pickle(\"pickle_data/test_labels.pkl\")\n",
    "\n",
    "print(\"✅ Alle Pickles gespeichert in pickle_data/\")"
   ]
  }
 ],
 "metadata": {
  "kernelspec": {
   "display_name": ".venv",
   "language": "python",
   "name": "python3"
  },
  "language_info": {
   "codemirror_mode": {
    "name": "ipython",
    "version": 3
   },
   "file_extension": ".py",
   "mimetype": "text/x-python",
   "name": "python",
   "nbconvert_exporter": "python",
   "pygments_lexer": "ipython3",
   "version": "3.12.10"
  }
 },
 "nbformat": 4,
 "nbformat_minor": 5
}
