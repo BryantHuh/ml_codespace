{
 "cells": [
  {
   "cell_type": "markdown",
   "id": "ba6347dd",
   "metadata": {},
   "source": [
    "📘 Kalenderbasierte Features: Feiertage"
   ]
  },
  {
   "cell_type": "code",
   "execution_count": 1,
   "id": "20c0b220",
   "metadata": {},
   "outputs": [],
   "source": [
    "from workalendar.europe import Germany\n",
    "import pandas as pd\n",
    "\n",
    "# Daten laden\n",
    "base_url = \"https://raw.githubusercontent.com/opencampus-sh/einfuehrung-in-data-science-und-ml/main/\"\n",
    "df_umsatz = pd.read_csv(base_url + \"umsatzdaten_gekuerzt.csv\")\n",
    "df_wetter = pd.read_csv(base_url + \"wetter.csv\")\n",
    "df_kiwo = pd.read_csv(base_url + \"kiwo.csv\")\n",
    "\n",
    "# Datum konvertieren\n",
    "df_umsatz['Datum'] = pd.to_datetime(df_umsatz['Datum'])\n",
    "df_wetter['Datum'] = pd.to_datetime(df_wetter['Datum'])\n",
    "df_kiwo['Datum'] = pd.to_datetime(df_kiwo['Datum'])\n",
    "\n",
    "# Merge & Features\n",
    "df = df_umsatz.merge(df_wetter, on='Datum', how='left')\n",
    "df = df.merge(df_kiwo, on='Datum', how='left')\n",
    "df['KielerWoche'] = df['KielerWoche'].fillna(0).astype(int)\n",
    "df['Wochentag'] = df['Datum'].dt.dayofweek\n",
    "df['Monat'] = df['Datum'].dt.month\n",
    "df['IstWochenende'] = df['Wochentag'].isin([5, 6]).astype(int)"
   ]
  },
  {
   "cell_type": "markdown",
   "id": "128b2c0e",
   "metadata": {},
   "source": [
    "📆 Feiertage berechnen:"
   ]
  },
  {
   "cell_type": "code",
   "execution_count": 2,
   "id": "02d28279",
   "metadata": {},
   "outputs": [
    {
     "name": "stderr",
     "output_type": "stream",
     "text": [
      "/var/folders/09/wpbg8c7x22x3d_2_ybk_s1g40000gn/T/ipykernel_66930/2533174572.py:9: FutureWarning: The behavior of 'isin' with dtype=datetime64[ns] and castable values (e.g. strings) is deprecated. In a future version, these will not be considered matching by isin. Explicitly cast to the appropriate dtype before calling isin instead.\n",
      "  df['Feiertag'] = df['Datum'].isin(feiertage_set).astype(int)\n"
     ]
    }
   ],
   "source": [
    "# Feiertage in Schleswig-Holstein berechnen\n",
    "cal = Germany(subdivision=\"SH\")\n",
    "jahre = df['Datum'].dt.year.unique()\n",
    "feiertage_set = set()\n",
    "for jahr in jahre:\n",
    "    feiertage_set.update([d for d, name in cal.holidays(jahr)])\n",
    "\n",
    "# Neue Spalte \"Feiertag\" ergänzen\n",
    "df['Feiertag'] = df['Datum'].isin(feiertage_set).astype(int)"
   ]
  },
  {
   "cell_type": "markdown",
   "id": "391e84ff",
   "metadata": {},
   "source": [
    "🔍 Kontrolle:"
   ]
  },
  {
   "cell_type": "code",
   "execution_count": 3,
   "id": "ae5b2302",
   "metadata": {},
   "outputs": [
    {
     "data": {
      "text/html": [
       "<div>\n",
       "<style scoped>\n",
       "    .dataframe tbody tr th:only-of-type {\n",
       "        vertical-align: middle;\n",
       "    }\n",
       "\n",
       "    .dataframe tbody tr th {\n",
       "        vertical-align: top;\n",
       "    }\n",
       "\n",
       "    .dataframe thead th {\n",
       "        text-align: right;\n",
       "    }\n",
       "</style>\n",
       "<table border=\"1\" class=\"dataframe\">\n",
       "  <thead>\n",
       "    <tr style=\"text-align: right;\">\n",
       "      <th></th>\n",
       "      <th>Datum</th>\n",
       "      <th>Feiertag</th>\n",
       "    </tr>\n",
       "  </thead>\n",
       "  <tbody>\n",
       "    <tr>\n",
       "      <th>0</th>\n",
       "      <td>2013-07-01</td>\n",
       "      <td>0</td>\n",
       "    </tr>\n",
       "    <tr>\n",
       "      <th>1</th>\n",
       "      <td>2013-07-02</td>\n",
       "      <td>0</td>\n",
       "    </tr>\n",
       "    <tr>\n",
       "      <th>2</th>\n",
       "      <td>2013-07-03</td>\n",
       "      <td>0</td>\n",
       "    </tr>\n",
       "    <tr>\n",
       "      <th>3</th>\n",
       "      <td>2013-07-04</td>\n",
       "      <td>0</td>\n",
       "    </tr>\n",
       "    <tr>\n",
       "      <th>4</th>\n",
       "      <td>2013-07-05</td>\n",
       "      <td>0</td>\n",
       "    </tr>\n",
       "    <tr>\n",
       "      <th>5</th>\n",
       "      <td>2013-07-06</td>\n",
       "      <td>0</td>\n",
       "    </tr>\n",
       "    <tr>\n",
       "      <th>6</th>\n",
       "      <td>2013-07-07</td>\n",
       "      <td>0</td>\n",
       "    </tr>\n",
       "    <tr>\n",
       "      <th>7</th>\n",
       "      <td>2013-07-08</td>\n",
       "      <td>0</td>\n",
       "    </tr>\n",
       "    <tr>\n",
       "      <th>8</th>\n",
       "      <td>2013-07-09</td>\n",
       "      <td>0</td>\n",
       "    </tr>\n",
       "    <tr>\n",
       "      <th>9</th>\n",
       "      <td>2013-07-10</td>\n",
       "      <td>0</td>\n",
       "    </tr>\n",
       "  </tbody>\n",
       "</table>\n",
       "</div>"
      ],
      "text/plain": [
       "       Datum  Feiertag\n",
       "0 2013-07-01         0\n",
       "1 2013-07-02         0\n",
       "2 2013-07-03         0\n",
       "3 2013-07-04         0\n",
       "4 2013-07-05         0\n",
       "5 2013-07-06         0\n",
       "6 2013-07-07         0\n",
       "7 2013-07-08         0\n",
       "8 2013-07-09         0\n",
       "9 2013-07-10         0"
      ]
     },
     "execution_count": 3,
     "metadata": {},
     "output_type": "execute_result"
    }
   ],
   "source": [
    "# Prüfung der ersten 10 Zeilen\n",
    "df[['Datum', 'Feiertag']].drop_duplicates().sort_values('Datum').head(10)"
   ]
  },
  {
   "cell_type": "markdown",
   "id": "7089a56f",
   "metadata": {},
   "source": [
    "# Schulferien hinzufügen\n",
    "📥 CSV einlesen und verarbeiten"
   ]
  },
  {
   "cell_type": "code",
   "execution_count": 6,
   "id": "f5d86230",
   "metadata": {},
   "outputs": [],
   "source": [
    "# Ferien-CSV einlesen\n",
    "df_ferien = pd.read_csv(\"../../data/ferien_sh.csv\", parse_dates=[\"Startdatum\", \"Enddatum\"])\n",
    "\n",
    "# Alle einzelnen Ferientage als Set extrahieren\n",
    "ferien_tage = set()\n",
    "for _, row in df_ferien.iterrows():\n",
    "    tage = pd.date_range(start=row[\"Startdatum\"], end=row[\"Enddatum\"])\n",
    "    ferien_tage.update(tage)\n",
    "\n",
    "# Neue Spalte erstellen\n",
    "df['Ferienzeit'] = df['Datum'].isin(ferien_tage).astype(int)"
   ]
  },
  {
   "cell_type": "markdown",
   "id": "51ca95ac",
   "metadata": {},
   "source": [
    "🔍 Kontrolle:"
   ]
  },
  {
   "cell_type": "code",
   "execution_count": 7,
   "id": "2d675e0e",
   "metadata": {},
   "outputs": [
    {
     "data": {
      "text/html": [
       "<div>\n",
       "<style scoped>\n",
       "    .dataframe tbody tr th:only-of-type {\n",
       "        vertical-align: middle;\n",
       "    }\n",
       "\n",
       "    .dataframe tbody tr th {\n",
       "        vertical-align: top;\n",
       "    }\n",
       "\n",
       "    .dataframe thead th {\n",
       "        text-align: right;\n",
       "    }\n",
       "</style>\n",
       "<table border=\"1\" class=\"dataframe\">\n",
       "  <thead>\n",
       "    <tr style=\"text-align: right;\">\n",
       "      <th></th>\n",
       "      <th>Datum</th>\n",
       "      <th>Ferienzeit</th>\n",
       "    </tr>\n",
       "  </thead>\n",
       "  <tbody>\n",
       "    <tr>\n",
       "      <th>0</th>\n",
       "      <td>2013-07-01</td>\n",
       "      <td>1</td>\n",
       "    </tr>\n",
       "    <tr>\n",
       "      <th>1</th>\n",
       "      <td>2013-07-02</td>\n",
       "      <td>1</td>\n",
       "    </tr>\n",
       "    <tr>\n",
       "      <th>2</th>\n",
       "      <td>2013-07-03</td>\n",
       "      <td>1</td>\n",
       "    </tr>\n",
       "    <tr>\n",
       "      <th>3</th>\n",
       "      <td>2013-07-04</td>\n",
       "      <td>1</td>\n",
       "    </tr>\n",
       "    <tr>\n",
       "      <th>4</th>\n",
       "      <td>2013-07-05</td>\n",
       "      <td>1</td>\n",
       "    </tr>\n",
       "    <tr>\n",
       "      <th>5</th>\n",
       "      <td>2013-07-06</td>\n",
       "      <td>1</td>\n",
       "    </tr>\n",
       "    <tr>\n",
       "      <th>6</th>\n",
       "      <td>2013-07-07</td>\n",
       "      <td>1</td>\n",
       "    </tr>\n",
       "    <tr>\n",
       "      <th>7</th>\n",
       "      <td>2013-07-08</td>\n",
       "      <td>1</td>\n",
       "    </tr>\n",
       "    <tr>\n",
       "      <th>8</th>\n",
       "      <td>2013-07-09</td>\n",
       "      <td>1</td>\n",
       "    </tr>\n",
       "    <tr>\n",
       "      <th>9</th>\n",
       "      <td>2013-07-10</td>\n",
       "      <td>1</td>\n",
       "    </tr>\n",
       "  </tbody>\n",
       "</table>\n",
       "</div>"
      ],
      "text/plain": [
       "       Datum  Ferienzeit\n",
       "0 2013-07-01           1\n",
       "1 2013-07-02           1\n",
       "2 2013-07-03           1\n",
       "3 2013-07-04           1\n",
       "4 2013-07-05           1\n",
       "5 2013-07-06           1\n",
       "6 2013-07-07           1\n",
       "7 2013-07-08           1\n",
       "8 2013-07-09           1\n",
       "9 2013-07-10           1"
      ]
     },
     "execution_count": 7,
     "metadata": {},
     "output_type": "execute_result"
    }
   ],
   "source": [
    "df[['Datum', 'Ferienzeit']].drop_duplicates().sort_values('Datum').head(10)"
   ]
  }
 ],
 "metadata": {
  "kernelspec": {
   "display_name": ".venv",
   "language": "python",
   "name": "python3"
  },
  "language_info": {
   "codemirror_mode": {
    "name": "ipython",
    "version": 3
   },
   "file_extension": ".py",
   "mimetype": "text/x-python",
   "name": "python",
   "nbconvert_exporter": "python",
   "pygments_lexer": "ipython3",
   "version": "3.12.10"
  }
 },
 "nbformat": 4,
 "nbformat_minor": 5
}
